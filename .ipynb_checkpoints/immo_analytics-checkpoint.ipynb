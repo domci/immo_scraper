{
 "cells": [
  {
   "cell_type": "markdown",
   "metadata": {},
   "source": [
    "--- \n",
    "layout: post \n",
    "title: \"Scrape immobilienscout24.de in parallel with python\" \n",
    "---\n",
    "\n",
    "\n",
    "In my last [post](https://domci.github.io/2019/05/14/immoscout-scraper.html) I described how to scape immoscout using python. I have run this scraper daily since quite a while now and collected quite some data.\n",
    "\n",
    "Now it is time to look into that data and get some insights out of it:\n",
    "\n",
    "\n"
   ]
  },
  {
   "cell_type": "code",
   "execution_count": 1,
   "metadata": {
    "scrolled": false
   },
   "outputs": [],
   "source": [
    "import pandas as pd\n",
    "import re\n",
    "import sqlite3\n",
    "import numpy as np\n",
    "import pandas_profiling\n",
    "\n",
    "\n",
    "\n",
    "conn = sqlite3.connect(\"sqlite/realty.db\")\n",
    "realty_details_df = pd.read_sql_query('select * from realties;', conn)\n",
    "conn.close()\n",
    "\n"
   ]
  },
  {
   "cell_type": "markdown",
   "metadata": {},
   "source": [
    "For that I first load some libraries, that I will need for querying and analizing the scraped immoscout classifieds. Then I query the data from sqlite:\n"
   ]
  },
  {
   "cell_type": "code",
   "execution_count": 2,
   "metadata": {},
   "outputs": [
    {
     "data": {
      "text/html": [
       "<div>\n",
       "<style scoped>\n",
       "    .dataframe tbody tr th:only-of-type {\n",
       "        vertical-align: middle;\n",
       "    }\n",
       "\n",
       "    .dataframe tbody tr th {\n",
       "        vertical-align: top;\n",
       "    }\n",
       "\n",
       "    .dataframe thead th {\n",
       "        text-align: right;\n",
       "    }\n",
       "</style>\n",
       "<table border=\"1\" class=\"dataframe\">\n",
       "  <thead>\n",
       "    <tr style=\"text-align: right;\">\n",
       "      <th></th>\n",
       "      <th>level_0</th>\n",
       "      <th>index</th>\n",
       "      <th>id</th>\n",
       "      <th>city_county</th>\n",
       "      <th>city_quarter</th>\n",
       "      <th>street</th>\n",
       "      <th>title</th>\n",
       "      <th>realty_type</th>\n",
       "      <th>floor</th>\n",
       "      <th>square_m</th>\n",
       "      <th>...</th>\n",
       "      <th>year_built</th>\n",
       "      <th>last_refurb</th>\n",
       "      <th>quality</th>\n",
       "      <th>heating_type</th>\n",
       "      <th>fuel_type</th>\n",
       "      <th>energy_consumption</th>\n",
       "      <th>energy_class</th>\n",
       "      <th>net_rent</th>\n",
       "      <th>gross_rent</th>\n",
       "      <th>scraped_ts</th>\n",
       "    </tr>\n",
       "  </thead>\n",
       "  <tbody>\n",
       "    <tr>\n",
       "      <th>0</th>\n",
       "      <td>0.0</td>\n",
       "      <td>0</td>\n",
       "      <td>110713974</td>\n",
       "      <td>Hamburg</td>\n",
       "      <td>Altona-Nord</td>\n",
       "      <td>Glückel-von-Hameln-Straße  2</td>\n",
       "      <td>neue Wohnung - neues Glück</td>\n",
       "      <td>Etagenwohnung</td>\n",
       "      <td>0</td>\n",
       "      <td>75,14</td>\n",
       "      <td>...</td>\n",
       "      <td>2019</td>\n",
       "      <td>0</td>\n",
       "      <td>0</td>\n",
       "      <td>0</td>\n",
       "      <td>0</td>\n",
       "      <td>0</td>\n",
       "      <td>0</td>\n",
       "      <td>1150</td>\n",
       "      <td>1.370,66</td>\n",
       "      <td>2019-05-09 20:02:05.576285</td>\n",
       "    </tr>\n",
       "    <tr>\n",
       "      <th>1</th>\n",
       "      <td>1.0</td>\n",
       "      <td>1</td>\n",
       "      <td>110714010</td>\n",
       "      <td>Hamburg</td>\n",
       "      <td>Altona-Nord</td>\n",
       "      <td>Susanne-von-Paczensky-Straße  9</td>\n",
       "      <td>Grandiose 4-Zimmerwohung! ***Erstbezug***</td>\n",
       "      <td>Etagenwohnung</td>\n",
       "      <td>0</td>\n",
       "      <td>99,39</td>\n",
       "      <td>...</td>\n",
       "      <td>2019</td>\n",
       "      <td>0</td>\n",
       "      <td>0</td>\n",
       "      <td>0</td>\n",
       "      <td>0</td>\n",
       "      <td>0</td>\n",
       "      <td>0</td>\n",
       "      <td>1440</td>\n",
       "      <td>1.828,13</td>\n",
       "      <td>2019-05-09 20:02:05.952150</td>\n",
       "    </tr>\n",
       "    <tr>\n",
       "      <th>2</th>\n",
       "      <td>2.0</td>\n",
       "      <td>2</td>\n",
       "      <td>110247048</td>\n",
       "      <td>Hamburg</td>\n",
       "      <td>Altona-Nord</td>\n",
       "      <td>Susanne-von-Paczensky-Straße  7</td>\n",
       "      <td>Traumhafte Penthousewohnung! ***Erstbezug***</td>\n",
       "      <td>Etagenwohnung</td>\n",
       "      <td>0</td>\n",
       "      <td>166,02</td>\n",
       "      <td>...</td>\n",
       "      <td>2019</td>\n",
       "      <td>0</td>\n",
       "      <td>0</td>\n",
       "      <td>0</td>\n",
       "      <td>0</td>\n",
       "      <td>0</td>\n",
       "      <td>0</td>\n",
       "      <td>2500</td>\n",
       "      <td>3.090,15</td>\n",
       "      <td>2019-05-09 20:01:52.972958</td>\n",
       "    </tr>\n",
       "    <tr>\n",
       "      <th>3</th>\n",
       "      <td>3.0</td>\n",
       "      <td>3</td>\n",
       "      <td>110247042</td>\n",
       "      <td>Hamburg</td>\n",
       "      <td>Altona-Nord</td>\n",
       "      <td>Susanne-von-Paczensky-Straße  11</td>\n",
       "      <td>Geniale 3-Zimmerwohnung! ***Erstbezug***</td>\n",
       "      <td>Etagenwohnung</td>\n",
       "      <td>0</td>\n",
       "      <td>97,65</td>\n",
       "      <td>...</td>\n",
       "      <td>2019</td>\n",
       "      <td>0</td>\n",
       "      <td>0</td>\n",
       "      <td>0</td>\n",
       "      <td>0</td>\n",
       "      <td>0</td>\n",
       "      <td>0</td>\n",
       "      <td>1470</td>\n",
       "      <td>1.854,57</td>\n",
       "      <td>2019-05-09 20:01:52.835853</td>\n",
       "    </tr>\n",
       "    <tr>\n",
       "      <th>4</th>\n",
       "      <td>4.0</td>\n",
       "      <td>4</td>\n",
       "      <td>110714047</td>\n",
       "      <td>Hamburg</td>\n",
       "      <td>Altona-Nord</td>\n",
       "      <td>Eva-Rühmkorf-Straße  8</td>\n",
       "      <td>***Hervorragende 3-Zimmerwohnung*** Erstbezug!</td>\n",
       "      <td>Etagenwohnung</td>\n",
       "      <td>0</td>\n",
       "      <td>86,04</td>\n",
       "      <td>...</td>\n",
       "      <td>2019</td>\n",
       "      <td>0</td>\n",
       "      <td>0</td>\n",
       "      <td>0</td>\n",
       "      <td>0</td>\n",
       "      <td>0</td>\n",
       "      <td>0</td>\n",
       "      <td>1300</td>\n",
       "      <td>1.648,85</td>\n",
       "      <td>2019-05-09 20:01:52.821486</td>\n",
       "    </tr>\n",
       "  </tbody>\n",
       "</table>\n",
       "<p>5 rows × 25 columns</p>\n",
       "</div>"
      ],
      "text/plain": [
       "   level_0  index         id city_county city_quarter  \\\n",
       "0      0.0      0  110713974     Hamburg  Altona-Nord   \n",
       "1      1.0      1  110714010     Hamburg  Altona-Nord   \n",
       "2      2.0      2  110247048     Hamburg  Altona-Nord   \n",
       "3      3.0      3  110247042     Hamburg  Altona-Nord   \n",
       "4      4.0      4  110714047     Hamburg  Altona-Nord   \n",
       "\n",
       "                             street  \\\n",
       "0      Glückel-von-Hameln-Straße  2   \n",
       "1   Susanne-von-Paczensky-Straße  9   \n",
       "2   Susanne-von-Paczensky-Straße  7   \n",
       "3  Susanne-von-Paczensky-Straße  11   \n",
       "4            Eva-Rühmkorf-Straße  8   \n",
       "\n",
       "                                            title    realty_type floor  \\\n",
       "0                      neue Wohnung - neues Glück  Etagenwohnung     0   \n",
       "1       Grandiose 4-Zimmerwohung! ***Erstbezug***  Etagenwohnung     0   \n",
       "2    Traumhafte Penthousewohnung! ***Erstbezug***  Etagenwohnung     0   \n",
       "3        Geniale 3-Zimmerwohnung! ***Erstbezug***  Etagenwohnung     0   \n",
       "4  ***Hervorragende 3-Zimmerwohnung*** Erstbezug!  Etagenwohnung     0   \n",
       "\n",
       "  square_m  ... year_built last_refurb quality heating_type fuel_type  \\\n",
       "0    75,14  ...       2019           0       0            0         0   \n",
       "1    99,39  ...       2019           0       0            0         0   \n",
       "2   166,02  ...       2019           0       0            0         0   \n",
       "3    97,65  ...       2019           0       0            0         0   \n",
       "4    86,04  ...       2019           0       0            0         0   \n",
       "\n",
       "  energy_consumption energy_class net_rent gross_rent  \\\n",
       "0                  0            0     1150   1.370,66   \n",
       "1                  0            0     1440   1.828,13   \n",
       "2                  0            0     2500   3.090,15   \n",
       "3                  0            0     1470   1.854,57   \n",
       "4                  0            0     1300   1.648,85   \n",
       "\n",
       "                   scraped_ts  \n",
       "0  2019-05-09 20:02:05.576285  \n",
       "1  2019-05-09 20:02:05.952150  \n",
       "2  2019-05-09 20:01:52.972958  \n",
       "3  2019-05-09 20:01:52.835853  \n",
       "4  2019-05-09 20:01:52.821486  \n",
       "\n",
       "[5 rows x 25 columns]"
      ]
     },
     "execution_count": 2,
     "metadata": {},
     "output_type": "execute_result"
    }
   ],
   "source": [
    "realty_details_df.head(5)"
   ]
  },
  {
   "cell_type": "markdown",
   "metadata": {},
   "source": [
    "Well that looks like nice and clean data, but lets check data types to be sure:\n"
   ]
  },
  {
   "cell_type": "code",
   "execution_count": 3,
   "metadata": {},
   "outputs": [
    {
     "name": "stdout",
     "output_type": "stream",
     "text": [
      "level_0               float64\n",
      "index                   int64\n",
      "id                      int64\n",
      "city_county            object\n",
      "city_quarter           object\n",
      "street                 object\n",
      "title                  object\n",
      "realty_type            object\n",
      "floor                  object\n",
      "square_m               object\n",
      "storage_m              object\n",
      "num_rooms              object\n",
      "num_bedrooms           object\n",
      "num_baths              object\n",
      "num_carparks           object\n",
      "year_built             object\n",
      "last_refurb            object\n",
      "quality                object\n",
      "heating_type           object\n",
      "fuel_type              object\n",
      "energy_consumption     object\n",
      "energy_class           object\n",
      "net_rent               object\n",
      "gross_rent             object\n",
      "scraped_ts             object\n",
      "dtype: object\n"
     ]
    }
   ],
   "source": [
    "print(realty_details_df.dtypes)"
   ]
  },
  {
   "cell_type": "markdown",
   "metadata": {},
   "source": [
    "Oh my. All this data has weird data types. Pretty much all columns are of type 'object'. To really work with this we need to convert each column to its correct data type, e.g. numeric values as int or float and dates as dates etc.\n"
   ]
  },
  {
   "cell_type": "code",
   "execution_count": 4,
   "metadata": {},
   "outputs": [
    {
     "name": "stdout",
     "output_type": "stream",
     "text": [
      "level_0                      float64\n",
      "index                        float64\n",
      "id                             int64\n",
      "city_county                   object\n",
      "city_quarter                  object\n",
      "street                        object\n",
      "title                         object\n",
      "realty_type                   object\n",
      "floor                         object\n",
      "square_m                     float64\n",
      "storage_m                    float64\n",
      "num_rooms                    float64\n",
      "num_bedrooms                 float64\n",
      "num_baths                    float64\n",
      "num_carparks                 float64\n",
      "year_built                   float64\n",
      "last_refurb                  float64\n",
      "quality                       object\n",
      "heating_type                  object\n",
      "fuel_type                     object\n",
      "energy_consumption           float64\n",
      "energy_class                  object\n",
      "net_rent                     float64\n",
      "gross_rent                   float64\n",
      "scraped_ts            datetime64[ns]\n",
      "dtype: object\n"
     ]
    }
   ],
   "source": [
    "non_decimal = re.compile(r'[^\\d.]+')\n",
    "\n",
    "realty_details_df.year_built = realty_details_df.year_built.replace('', '0')\n",
    "realty_details_df.year_built = realty_details_df.year_built.apply(lambda x: non_decimal.sub('', str(x).replace(',','.')))\n",
    "realty_details_df.square_m = realty_details_df.square_m.apply(lambda x: non_decimal.sub('', str(x).replace(',','.')))\n",
    "realty_details_df.num_rooms = realty_details_df.num_rooms.apply(lambda x: non_decimal.sub('', str(x).replace(',','.')))\n",
    "realty_details_df.storage_m = realty_details_df.storage_m.apply(lambda x: non_decimal.sub('', str(x).replace(',','.')))\n",
    "realty_details_df.last_refurb = realty_details_df.last_refurb.apply(lambda x: non_decimal.sub('', str(x).replace(',','.')))\n",
    "realty_details_df.energy_consumption = realty_details_df.energy_consumption.apply(lambda x: non_decimal.sub('', str(x).replace(',','.')))\n",
    "realty_details_df.net_rent = realty_details_df.net_rent.apply(lambda x: non_decimal.sub('', str(x).replace('.','').replace(',','.')))\n",
    "realty_details_df.gross_rent = realty_details_df.gross_rent.apply(lambda x: non_decimal.sub('', str(x).replace('.','').replace(',','.')))\n",
    "realty_details_df.floor = realty_details_df.floor.apply(lambda x: str(x).split()[0])\n",
    "\n",
    "realty_details_df = realty_details_df.replace('0', realty_details_df.replace(['0'], [None]))\n",
    "realty_details_df = realty_details_df.replace(0, realty_details_df.replace([0], [None]))\n",
    "\n",
    "\n",
    "# make numeric\n",
    "#######################################\n",
    "\n",
    "cols = ['id', 'square_m', 'storage_m',  'num_rooms', 'num_bedrooms', 'num_baths', 'num_carparks', 'year_built', 'last_refurb', 'energy_consumption','net_rent', 'gross_rent']\n",
    "realty_details_df[cols] = realty_details_df[cols].apply(pd.to_numeric, errors='ignore')\n",
    "realty_details_df.scraped_ts = pd.to_datetime(realty_details_df.scraped_ts)\n",
    "\n",
    "\n",
    "\n",
    "print(realty_details_df.dtypes)"
   ]
  },
  {
   "cell_type": "markdown",
   "metadata": {},
   "source": [
    "Yay, this looks much better! So lets start getting some insights!"
   ]
  },
  {
   "cell_type": "code",
   "execution_count": 8,
   "metadata": {},
   "outputs": [
    {
     "data": {
      "text/plain": [
       "<matplotlib.axes._subplots.AxesSubplot at 0x7fd5e3beaa58>"
      ]
     },
     "execution_count": 8,
     "metadata": {},
     "output_type": "execute_result"
    },
    {
     "data": {
      "image/png": "[encoded data removed]",
      "text/plain": [
       "<Figure size 1440x720 with 1 Axes>"
      ]
     },
     "metadata": {
      "needs_background": "light"
     },
     "output_type": "display_data"
    }
   ],
   "source": [
    "import matplotlib.pyplot as plt\n",
    "\n",
    "scrape_freq = pd.DataFrame(realty_details_df.set_index('scraped_ts').groupby(pd.Grouper(freq='D')).count()['id'])\n",
    "scrape_freq.columns = ['num_classifieds']\n",
    "scrape_freq.plot.line(figsize=(20,10))"
   ]
  },
  {
   "cell_type": "markdown",
   "metadata": {},
   "source": [
    "Ok, as we see in this plot the scraper is running since somewhere in may. At first some 1500 realties are scraped and doenloaded. Then, after a humble start the number of scraped classifieds stabilizes starting in June 2019. Since then the average numer of new classifieds per day is:"
   ]
  },
  {
   "cell_type": "code",
   "execution_count": 30,
   "metadata": {},
   "outputs": [
    {
     "name": "stdout",
     "output_type": "stream",
     "text": [
      "num_classifieds    79.014085\n",
      "dtype: float64\n"
     ]
    }
   ],
   "source": [
    "print(np.mean(scrape_freq.loc['2019-06-01':]))"
   ]
  },
  {
   "cell_type": "markdown",
   "metadata": {},
   "source": [
    "Since I am running the scraper once a day, and I know that it only scrapes new classifieds, 80 new realties per day seem plausible.\n",
    "Now that we know the scraper does its job lets dig into the data. Lets calculate the rent per square meter for each realty and look at the aveage and mean:"
   ]
  },
  {
   "cell_type": "code",
   "execution_count": 40,
   "metadata": {},
   "outputs": [
    {
     "data": {
      "text/plain": [
       "count    9297.000000\n",
       "mean      208.621589\n",
       "std       445.592437\n",
       "min         4.291845\n",
       "25%        10.000000\n",
       "50%        12.727273\n",
       "75%        18.113109\n",
       "max      3681.468653\n",
       "Name: net_rent_per_m, dtype: float64"
      ]
     },
     "execution_count": 40,
     "metadata": {},
     "output_type": "execute_result"
    }
   ],
   "source": [
    "realty_details_df['net_rent_per_m'] = realty_details_df['net_rent'] / realty_details_df['square_m']\n",
    "realty_details_df.net_rent_per_m.describe()"
   ]
  },
  {
   "cell_type": "markdown",
   "metadata": {},
   "source": [
    "As you see, there is a total of 9297 classifieds in this dataset. Prices per square meter range from 4,29 EUR to 3681,46 EUR with an average price of 208,62 EUR. \n",
    "\n",
    "Hm, this seem more expensive than expected.\n",
    "\n",
    "Lets dig deeper:"
   ]
  },
  {
   "cell_type": "code",
   "execution_count": null,
   "metadata": {},
   "outputs": [],
   "source": [
    "realty_details_df['net_rent_per_m'].plot.line()"
   ]
  },
  {
   "cell_type": "code",
   "execution_count": null,
   "metadata": {},
   "outputs": [],
   "source": []
  },
  {
   "cell_type": "code",
   "execution_count": null,
   "metadata": {},
   "outputs": [],
   "source": []
  },
  {
   "cell_type": "code",
   "execution_count": 5,
   "metadata": {},
   "outputs": [
    {
     "name": "stderr",
     "output_type": "stream",
     "text": [
      "/usr/local/lib/python3.7/site-packages/ipykernel_launcher.py:1: FutureWarning: pd.TimeGrouper is deprecated and will be removed; Please use pd.Grouper(freq=...)\n",
      "  \"\"\"Entry point for launching an IPython kernel.\n"
     ]
    },
    {
     "ename": "TypeError",
     "evalue": "Only valid with DatetimeIndex, TimedeltaIndex or PeriodIndex, but got an instance of 'Index'",
     "output_type": "error",
     "traceback": [
      "\u001b[0;31m---------------------------------------------------------------------------\u001b[0m",
      "\u001b[0;31mTypeError\u001b[0m                                 Traceback (most recent call last)",
      "\u001b[0;32m<ipython-input-5-1b1c829df68a>\u001b[0m in \u001b[0;36m<module>\u001b[0;34m\u001b[0m\n\u001b[0;32m----> 1\u001b[0;31m \u001b[0mrealty_details_df\u001b[0m\u001b[0;34m.\u001b[0m\u001b[0mset_index\u001b[0m\u001b[0;34m(\u001b[0m\u001b[0;34m'scraped_ts'\u001b[0m\u001b[0;34m)\u001b[0m\u001b[0;34m.\u001b[0m\u001b[0mgroupby\u001b[0m\u001b[0;34m(\u001b[0m\u001b[0mpd\u001b[0m\u001b[0;34m.\u001b[0m\u001b[0mTimeGrouper\u001b[0m\u001b[0;34m(\u001b[0m\u001b[0;34m'D'\u001b[0m\u001b[0;34m)\u001b[0m\u001b[0;34m)\u001b[0m\u001b[0;34m.\u001b[0m\u001b[0mcount\u001b[0m\u001b[0;34m(\u001b[0m\u001b[0;34m)\u001b[0m\u001b[0;34m[\u001b[0m\u001b[0;34m'id'\u001b[0m\u001b[0;34m]\u001b[0m\u001b[0;34m\u001b[0m\u001b[0;34m\u001b[0m\u001b[0m\n\u001b[0m",
      "\u001b[0;32m/usr/local/lib/python3.7/site-packages/pandas/core/generic.py\u001b[0m in \u001b[0;36mgroupby\u001b[0;34m(self, by, axis, level, as_index, sort, group_keys, squeeze, observed, **kwargs)\u001b[0m\n\u001b[1;32m   7630\u001b[0m         return groupby(self, by=by, axis=axis, level=level, as_index=as_index,\n\u001b[1;32m   7631\u001b[0m                        \u001b[0msort\u001b[0m\u001b[0;34m=\u001b[0m\u001b[0msort\u001b[0m\u001b[0;34m,\u001b[0m \u001b[0mgroup_keys\u001b[0m\u001b[0;34m=\u001b[0m\u001b[0mgroup_keys\u001b[0m\u001b[0;34m,\u001b[0m \u001b[0msqueeze\u001b[0m\u001b[0;34m=\u001b[0m\u001b[0msqueeze\u001b[0m\u001b[0;34m,\u001b[0m\u001b[0;34m\u001b[0m\u001b[0;34m\u001b[0m\u001b[0m\n\u001b[0;32m-> 7632\u001b[0;31m                        observed=observed, **kwargs)\n\u001b[0m\u001b[1;32m   7633\u001b[0m \u001b[0;34m\u001b[0m\u001b[0m\n\u001b[1;32m   7634\u001b[0m     def asfreq(self, freq, method=None, how=None, normalize=False,\n",
      "\u001b[0;32m/usr/local/lib/python3.7/site-packages/pandas/core/groupby/groupby.py\u001b[0m in \u001b[0;36mgroupby\u001b[0;34m(obj, by, **kwds)\u001b[0m\n\u001b[1;32m   2108\u001b[0m         \u001b[0;32mraise\u001b[0m \u001b[0mTypeError\u001b[0m\u001b[0;34m(\u001b[0m\u001b[0;34m'invalid type: {}'\u001b[0m\u001b[0;34m.\u001b[0m\u001b[0mformat\u001b[0m\u001b[0;34m(\u001b[0m\u001b[0mobj\u001b[0m\u001b[0;34m)\u001b[0m\u001b[0;34m)\u001b[0m\u001b[0;34m\u001b[0m\u001b[0;34m\u001b[0m\u001b[0m\n\u001b[1;32m   2109\u001b[0m \u001b[0;34m\u001b[0m\u001b[0m\n\u001b[0;32m-> 2110\u001b[0;31m     \u001b[0;32mreturn\u001b[0m \u001b[0mklass\u001b[0m\u001b[0;34m(\u001b[0m\u001b[0mobj\u001b[0m\u001b[0;34m,\u001b[0m \u001b[0mby\u001b[0m\u001b[0;34m,\u001b[0m \u001b[0;34m**\u001b[0m\u001b[0mkwds\u001b[0m\u001b[0;34m)\u001b[0m\u001b[0;34m\u001b[0m\u001b[0;34m\u001b[0m\u001b[0m\n\u001b[0m",
      "\u001b[0;32m/usr/local/lib/python3.7/site-packages/pandas/core/groupby/groupby.py\u001b[0m in \u001b[0;36m__init__\u001b[0;34m(self, obj, keys, axis, level, grouper, exclusions, selection, as_index, sort, group_keys, squeeze, observed, **kwargs)\u001b[0m\n\u001b[1;32m    358\u001b[0m                                                     \u001b[0msort\u001b[0m\u001b[0;34m=\u001b[0m\u001b[0msort\u001b[0m\u001b[0;34m,\u001b[0m\u001b[0;34m\u001b[0m\u001b[0;34m\u001b[0m\u001b[0m\n\u001b[1;32m    359\u001b[0m                                                     \u001b[0mobserved\u001b[0m\u001b[0;34m=\u001b[0m\u001b[0mobserved\u001b[0m\u001b[0;34m,\u001b[0m\u001b[0;34m\u001b[0m\u001b[0;34m\u001b[0m\u001b[0m\n\u001b[0;32m--> 360\u001b[0;31m                                                     mutated=self.mutated)\n\u001b[0m\u001b[1;32m    361\u001b[0m \u001b[0;34m\u001b[0m\u001b[0m\n\u001b[1;32m    362\u001b[0m         \u001b[0mself\u001b[0m\u001b[0;34m.\u001b[0m\u001b[0mobj\u001b[0m \u001b[0;34m=\u001b[0m \u001b[0mobj\u001b[0m\u001b[0;34m\u001b[0m\u001b[0;34m\u001b[0m\u001b[0m\n",
      "\u001b[0;32m/usr/local/lib/python3.7/site-packages/pandas/core/groupby/grouper.py\u001b[0m in \u001b[0;36m_get_grouper\u001b[0;34m(obj, key, axis, level, sort, observed, mutated, validate)\u001b[0m\n\u001b[1;32m    476\u001b[0m     \u001b[0;31m# a passed-in Grouper, directly convert\u001b[0m\u001b[0;34m\u001b[0m\u001b[0;34m\u001b[0m\u001b[0;34m\u001b[0m\u001b[0m\n\u001b[1;32m    477\u001b[0m     \u001b[0;32mif\u001b[0m \u001b[0misinstance\u001b[0m\u001b[0;34m(\u001b[0m\u001b[0mkey\u001b[0m\u001b[0;34m,\u001b[0m \u001b[0mGrouper\u001b[0m\u001b[0;34m)\u001b[0m\u001b[0;34m:\u001b[0m\u001b[0;34m\u001b[0m\u001b[0;34m\u001b[0m\u001b[0m\n\u001b[0;32m--> 478\u001b[0;31m         \u001b[0mbinner\u001b[0m\u001b[0;34m,\u001b[0m \u001b[0mgrouper\u001b[0m\u001b[0;34m,\u001b[0m \u001b[0mobj\u001b[0m \u001b[0;34m=\u001b[0m \u001b[0mkey\u001b[0m\u001b[0;34m.\u001b[0m\u001b[0m_get_grouper\u001b[0m\u001b[0;34m(\u001b[0m\u001b[0mobj\u001b[0m\u001b[0;34m,\u001b[0m \u001b[0mvalidate\u001b[0m\u001b[0;34m=\u001b[0m\u001b[0;32mFalse\u001b[0m\u001b[0;34m)\u001b[0m\u001b[0;34m\u001b[0m\u001b[0;34m\u001b[0m\u001b[0m\n\u001b[0m\u001b[1;32m    479\u001b[0m         \u001b[0;32mif\u001b[0m \u001b[0mkey\u001b[0m\u001b[0;34m.\u001b[0m\u001b[0mkey\u001b[0m \u001b[0;32mis\u001b[0m \u001b[0;32mNone\u001b[0m\u001b[0;34m:\u001b[0m\u001b[0;34m\u001b[0m\u001b[0;34m\u001b[0m\u001b[0m\n\u001b[1;32m    480\u001b[0m             \u001b[0;32mreturn\u001b[0m \u001b[0mgrouper\u001b[0m\u001b[0;34m,\u001b[0m \u001b[0;34m[\u001b[0m\u001b[0;34m]\u001b[0m\u001b[0;34m,\u001b[0m \u001b[0mobj\u001b[0m\u001b[0;34m\u001b[0m\u001b[0;34m\u001b[0m\u001b[0m\n",
      "\u001b[0;32m/usr/local/lib/python3.7/site-packages/pandas/core/resample.py\u001b[0m in \u001b[0;36m_get_grouper\u001b[0;34m(self, obj, validate)\u001b[0m\n\u001b[1;32m   1382\u001b[0m     \u001b[0;32mdef\u001b[0m \u001b[0m_get_grouper\u001b[0m\u001b[0;34m(\u001b[0m\u001b[0mself\u001b[0m\u001b[0;34m,\u001b[0m \u001b[0mobj\u001b[0m\u001b[0;34m,\u001b[0m \u001b[0mvalidate\u001b[0m\u001b[0;34m=\u001b[0m\u001b[0;32mTrue\u001b[0m\u001b[0;34m)\u001b[0m\u001b[0;34m:\u001b[0m\u001b[0;34m\u001b[0m\u001b[0;34m\u001b[0m\u001b[0m\n\u001b[1;32m   1383\u001b[0m         \u001b[0;31m# create the resampler and return our binner\u001b[0m\u001b[0;34m\u001b[0m\u001b[0;34m\u001b[0m\u001b[0;34m\u001b[0m\u001b[0m\n\u001b[0;32m-> 1384\u001b[0;31m         \u001b[0mr\u001b[0m \u001b[0;34m=\u001b[0m \u001b[0mself\u001b[0m\u001b[0;34m.\u001b[0m\u001b[0m_get_resampler\u001b[0m\u001b[0;34m(\u001b[0m\u001b[0mobj\u001b[0m\u001b[0;34m)\u001b[0m\u001b[0;34m\u001b[0m\u001b[0;34m\u001b[0m\u001b[0m\n\u001b[0m\u001b[1;32m   1385\u001b[0m         \u001b[0mr\u001b[0m\u001b[0;34m.\u001b[0m\u001b[0m_set_binner\u001b[0m\u001b[0;34m(\u001b[0m\u001b[0;34m)\u001b[0m\u001b[0;34m\u001b[0m\u001b[0;34m\u001b[0m\u001b[0m\n\u001b[1;32m   1386\u001b[0m         \u001b[0;32mreturn\u001b[0m \u001b[0mr\u001b[0m\u001b[0;34m.\u001b[0m\u001b[0mbinner\u001b[0m\u001b[0;34m,\u001b[0m \u001b[0mr\u001b[0m\u001b[0;34m.\u001b[0m\u001b[0mgrouper\u001b[0m\u001b[0;34m,\u001b[0m \u001b[0mr\u001b[0m\u001b[0;34m.\u001b[0m\u001b[0mobj\u001b[0m\u001b[0;34m\u001b[0m\u001b[0;34m\u001b[0m\u001b[0m\n",
      "\u001b[0;32m/usr/local/lib/python3.7/site-packages/pandas/core/resample.py\u001b[0m in \u001b[0;36m_get_resampler\u001b[0;34m(self, obj, kind)\u001b[0m\n\u001b[1;32m   1378\u001b[0m         raise TypeError(\"Only valid with DatetimeIndex, \"\n\u001b[1;32m   1379\u001b[0m                         \u001b[0;34m\"TimedeltaIndex or PeriodIndex, \"\u001b[0m\u001b[0;34m\u001b[0m\u001b[0;34m\u001b[0m\u001b[0m\n\u001b[0;32m-> 1380\u001b[0;31m                         \"but got an instance of %r\" % type(ax).__name__)\n\u001b[0m\u001b[1;32m   1381\u001b[0m \u001b[0;34m\u001b[0m\u001b[0m\n\u001b[1;32m   1382\u001b[0m     \u001b[0;32mdef\u001b[0m \u001b[0m_get_grouper\u001b[0m\u001b[0;34m(\u001b[0m\u001b[0mself\u001b[0m\u001b[0;34m,\u001b[0m \u001b[0mobj\u001b[0m\u001b[0;34m,\u001b[0m \u001b[0mvalidate\u001b[0m\u001b[0;34m=\u001b[0m\u001b[0;32mTrue\u001b[0m\u001b[0;34m)\u001b[0m\u001b[0;34m:\u001b[0m\u001b[0;34m\u001b[0m\u001b[0;34m\u001b[0m\u001b[0m\n",
      "\u001b[0;31mTypeError\u001b[0m: Only valid with DatetimeIndex, TimedeltaIndex or PeriodIndex, but got an instance of 'Index'"
     ]
    }
   ],
   "source": [
    "realty_details_df.set_index('scraped_ts').groupby(pd.TimeGrouper('D')).count()['id']"
   ]
  },
  {
   "cell_type": "code",
   "execution_count": null,
   "metadata": {
    "scrolled": false
   },
   "outputs": [],
   "source": [
    "#######################################\n",
    "# Make Data Profiling Report\n",
    "#######################################\n",
    "\n",
    "\n",
    "\n",
    "pandas_profiling.ProfileReport(realty_details_df)"
   ]
  },
  {
   "cell_type": "code",
   "execution_count": null,
   "metadata": {},
   "outputs": [],
   "source": [
    "plot_data = realty_details_df[['city_county', 'city_quarter', 'street',\n",
    "       'title', 'realty_type', 'floor', 'square_m', 'storage_m', 'num_rooms',\n",
    "       'num_bedrooms', 'num_baths', 'num_carparks', 'year_built',\n",
    "       'last_refurb', 'quality', 'heating_type', 'fuel_type',\n",
    "       'energy_consumption', 'energy_class', 'net_rent', 'gross_rent', 'net_rent_per_m']]\n"
   ]
  },
  {
   "cell_type": "code",
   "execution_count": null,
   "metadata": {},
   "outputs": [],
   "source": [
    "import seaborn as sns\n",
    "\n",
    "\n",
    "\n",
    "corr = plot_data.corr()\n",
    "sns.heatmap(corr, \n",
    "            xticklabels=corr.columns.values,\n",
    "            yticklabels=corr.columns.values)\n",
    "\n",
    "corr"
   ]
  },
  {
   "cell_type": "code",
   "execution_count": null,
   "metadata": {},
   "outputs": [],
   "source": [
    "sns.lmplot(x=\"gross_rent\", y=\"square_m\", data=plot_data[['gross_rent', 'square_m']])"
   ]
  },
  {
   "cell_type": "code",
   "execution_count": null,
   "metadata": {
    "scrolled": false
   },
   "outputs": [],
   "source": [
    "from pandas.plotting import scatter_matrix\n",
    "\n",
    "\n",
    "x = scatter_matrix(plot_data, alpha=0.2, figsize=(20, 20), diagonal='hist')"
   ]
  },
  {
   "cell_type": "code",
   "execution_count": null,
   "metadata": {},
   "outputs": [],
   "source": [
    "plot_data"
   ]
  }
 ],
 "metadata": {
  "kernelspec": {
   "display_name": "Python 3",
   "language": "python",
   "name": "python3"
  },
  "language_info": {
   "codemirror_mode": {
    "name": "ipython",
    "version": 3
   },
   "file_extension": ".py",
   "mimetype": "text/x-python",
   "name": "python",
   "nbconvert_exporter": "python",
   "pygments_lexer": "ipython3",
   "version": "3.7.1"
  }
 },
 "nbformat": 4,
 "nbformat_minor": 2
}
